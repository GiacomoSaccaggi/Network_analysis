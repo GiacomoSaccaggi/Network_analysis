{
 "cells": [
  {
   "cell_type": "markdown",
   "metadata": {},
   "source": [
    "# Network analysis\n",
    "# Giacomo Saccaggi\n",
    "# Gennaio 2020\n",
    "\n",
    "\n",
    "\n",
    "\n",
    "## Caricamento dei dati"
   ]
  },
  {
   "cell_type": "code",
   "execution_count": 1,
   "metadata": {},
   "outputs": [
    {
     "name": "stdout",
     "output_type": "stream",
     "text": [
      "     Unnamed: 0 From To\n",
      "0             1    E  A\n",
      "1             2    D  B\n",
      "2             3    D  E\n",
      "3             4    C  B\n",
      "4             5    C  B\n",
      "..          ...  ... ..\n",
      "245         246    B  A\n",
      "246         247    B  A\n",
      "247         248    E  D\n",
      "248         249    D  E\n",
      "249         250    B  E\n",
      "\n",
      "[250 rows x 3 columns]\n",
      "   Unnamed: 0 Node  Age Department Job\n",
      "0           1    A   35         d1  w1\n",
      "1           2    B   24         d1  w2\n",
      "2           3    C   29         d2  w3\n",
      "3           4    D   45         d2  w1\n",
      "4           5    E   40         d3  w2\n",
      "5           6    F   53         d3  w4\n",
      "             count\n",
      "        Unnamed: 0\n",
      "From To           \n",
      "A    B          23\n",
      "     C          14\n",
      "     D          13\n",
      "     E          11\n",
      "B    A           5\n",
      "     C          17\n",
      "     D           8\n",
      "     E          12\n",
      "C    A           7\n",
      "     B          11\n",
      "     D          21\n",
      "     E          11\n",
      "D    A           7\n",
      "     B          15\n",
      "     C          12\n",
      "     E          16\n",
      "E    A          10\n",
      "     B          11\n",
      "     C          10\n",
      "     D          11\n",
      "     F           3\n",
      "F    B           1\n",
      "     C           1\n"
     ]
    }
   ],
   "source": [
    "import networkx as nx\n",
    "import networkx.convert_matrix as nxm\n",
    "\n",
    "import pandas as pd\n",
    "\n",
    "dati = pd.read_csv (r'C:/Users/gieck/Desktop/file da caricare/from_to.csv')\n",
    "print (dati)\n",
    "info = pd.read_csv (r'C:/Users/gieck/Desktop/file da caricare/info.csv')\n",
    "print (info)\n",
    "\n",
    "\n",
    "df = dati.pivot_table(index=['From','To'], values=['To'], aggfunc=['count'])\n",
    "print (df)"
   ]
  },
  {
   "cell_type": "markdown",
   "metadata": {},
   "source": [
    "## Creare Network"
   ]
  },
  {
   "cell_type": "code",
   "execution_count": 2,
   "metadata": {},
   "outputs": [
    {
     "name": "stdout",
     "output_type": "stream",
     "text": [
      "\n"
     ]
    },
    {
     "name": "stderr",
     "output_type": "stream",
     "text": [
      "C:\\Users\\gieck\\Anaconda3\\lib\\site-packages\\ipykernel_launcher.py:10: FutureWarning: \n",
      ".ix is deprecated. Please use\n",
      ".loc for label based indexing or\n",
      ".iloc for positional indexing\n",
      "\n",
      "See the documentation here:\n",
      "http://pandas.pydata.org/pandas-docs/stable/user_guide/indexing.html#ix-indexer-is-deprecated\n",
      "  # Remove the CWD from sys.path while we load stuff.\n"
     ]
    }
   ],
   "source": [
    "\n",
    "G = nx.DiGraph()\n",
    "\n",
    "#aggiungere nodi\n",
    "for i in range(len(info['Node'])):\n",
    "    G.add_node(info['Node'][i])\n",
    "\n",
    "\n",
    "#aggiungere edge\n",
    "for i in range(len(df.index)):\n",
    "    G.add_edge(df.index[i][0], df.index[i][1],weight=df.ix[df.index[i]][0])\n",
    "\n",
    "# aggiungere attributi\n",
    "nx.set_node_attributes(G, info['Age'], 'Age')\n",
    "nx.set_node_attributes(G, info['Department'], 'Department')\n",
    "nx.set_node_attributes(G, info['Job'], 'Job')\n",
    "\n",
    "print(G)"
   ]
  },
  {
   "cell_type": "markdown",
   "metadata": {},
   "source": [
    "# Calcolo Misure"
   ]
  },
  {
   "cell_type": "code",
   "execution_count": 3,
   "metadata": {},
   "outputs": [
    {
     "name": "stdout",
     "output_type": "stream",
     "text": [
      "Network density: 0.7666666666666667\n"
     ]
    }
   ],
   "source": [
    "density = nx.density(G)\n",
    "print(\"Network density:\", density)"
   ]
  },
  {
   "cell_type": "code",
   "execution_count": 4,
   "metadata": {},
   "outputs": [
    {
     "name": "stdout",
     "output_type": "stream",
     "text": [
      "Shortest path between A and B: ['A', 'B']\n"
     ]
    }
   ],
   "source": [
    "A_B_path = nx.shortest_path(G, source=\"A\", target=\"B\")\n",
    "\n",
    "print(\"Shortest path between A and B:\", A_B_path)"
   ]
  },
  {
   "cell_type": "code",
   "execution_count": 5,
   "metadata": {},
   "outputs": [
    {
     "name": "stdout",
     "output_type": "stream",
     "text": [
      "Length of that path: 1\n"
     ]
    }
   ],
   "source": [
    "print(\"Length of that path:\", len(A_B_path)-1)"
   ]
  },
  {
   "cell_type": "code",
   "execution_count": 6,
   "metadata": {},
   "outputs": [
    {
     "name": "stdout",
     "output_type": "stream",
     "text": [
      "Triadic closure: 0.9142857142857143\n"
     ]
    }
   ],
   "source": [
    "triadic_closure = nx.transitivity(G)\n",
    "print(\"Triadic closure:\", triadic_closure)"
   ]
  },
  {
   "cell_type": "markdown",
   "metadata": {},
   "source": [
    "\n",
    "## Degree (Grado)\n",
    "\n",
    "La misura più semplice di centralità in un social network è il grado. Esso è il modo più semplice e più comune di trovare nodi importanti. Il grado di un nodo è la somma dei bordi. Se, ad esempio, un nodo ha tre linee che si estendono da esso ad altri nodi, il suo grado è tre. \n",
    "\n",
    "Esistono due tipi di centralità dei gradi: indegree e outdegree.\n",
    "\n",
    "- Indegree è il conteggio del numero totale di connessioni in entrata a un nodo. Nel linguaggio dell'amicizia, l'indegree può essere pensato come centralità della \"popolarità\". Il nodo è popolare perché molti altri nodi lo nominano come nodo con cui hanno un certo tipo di relazione.\n",
    "- Outdegree è il numero totale di connessioni in uscita da un nodo. Il livello esterno può essere considerato come il livello di gregarietà di un nodo. I nodi con livelli più alti hanno molte connessioni in uscita. Nei grafici diretti si possono distinguere indegree e outdegree, ma in un grafico non orientato (senza frecce) possiamo semplicemente misurare la centralità dei gradi.\n",
    "\n",
    "\n",
    "\n",
    "\n",
    ">degree_centrality(G) Compute the degree centrality for nodes. <br>\n",
    "in_degree_centrality(G) Compute the in-degree centrality for nodes.<br>\n",
    "out_degree_centrality(G) Compute the out-degree centrality for nodes."
   ]
  },
  {
   "cell_type": "code",
   "execution_count": 7,
   "metadata": {},
   "outputs": [
    {
     "name": "stdout",
     "output_type": "stream",
     "text": [
      "{'A': 8, 'B': 9, 'C': 9, 'D': 8, 'E': 9, 'F': 3}\n"
     ]
    }
   ],
   "source": [
    "degree_dict = dict(G.degree(G.nodes()))\n",
    "print(degree_dict)\n",
    "nx.set_node_attributes(G, degree_dict, 'degree')"
   ]
  },
  {
   "cell_type": "markdown",
   "metadata": {},
   "source": [
    "\n",
    "## Closeness (Vicinanza)\n",
    "\n",
    "\n",
    "\n",
    "La seconda misura che tratteremo si chiama Closeness. Ci sono anche altri nomi per questo; a volte si chiama centralità dell'accesso. In poche parole, Closeness centrality cattura la distanza media dal nodo focale a tutti gli altri nodi del social network. La rappresentazione matematica della vicinanza è la seguente:\n",
    "\n",
    "\n",
    "$$ l_i = \\frac{1}{n-1} \\sum_j d_{i,j}  $$\n",
    "\n",
    "Stiamo provando a calcolare la vicinanza del nodo a tutti gli altri nodi della rete; quindi la Prossimità. Il numeratore è la somma di tutte le distanze a coppie tra il nodo i e tutti gli altri nodi j (escluso i). La somma delle distanze viene quindi divisa per il numero totale di nodi nella rete $n$ sottratto per 1 (per regolare il conteggio per escludere il nodo i). Ora abbiamo lontananza, che è la distanza media del nodo i da tutti gli altri nodi della rete. Prendere il reciproco ci rende vicini.\n",
    "\n",
    "$$ C_i = \\frac{1}{l_i} = \\frac{n-1}{\\sum_j d_{i,j}} $$"
   ]
  },
  {
   "cell_type": "code",
   "execution_count": 8,
   "metadata": {},
   "outputs": [
    {
     "name": "stdout",
     "output_type": "stream",
     "text": [
      "{'A': 0.8333333333333334, 'B': 1.0, 'C': 1.0, 'D': 0.8333333333333334, 'E': 0.8333333333333334, 'F': 0.5555555555555556}\n"
     ]
    }
   ],
   "source": [
    "closeness_dict = nx.closeness_centrality(G)\n",
    "print(closeness_dict)\n",
    "nx.set_node_attributes(G, closeness_dict, 'closeness')"
   ]
  },
  {
   "cell_type": "markdown",
   "metadata": {},
   "source": [
    "\n",
    "## Betweenness (intermediatezza [quanto un nodo è intermediario])\n",
    "\n",
    "E' forse una delle più potenti misure di centralità ed è strettamente correlata all'idea di buchi strutturali. La distanza intermedia può essere calcolata come:\n",
    "\n",
    "$$b_i = \\sum_{s, t} w_{s,t}^{i} = \\sum_{s, t} \\frac{n_{s,t}^{i}}{n_{s,t}} $$\n",
    "\n",
    "Betweenness è la misura con cui si capisce se un nodo funge da ponte tra altri nodi della rete. Viene calcolato osservando tutte le coppie di nodi nella rete ed esaminando la frequenza con cui i, il nodo focale, esiste sui percorsi più brevi tra i nodi j e k.\n",
    "\n",
    "In termini piu semplici, è la misura in cui un nodo si trova su percorsi tra altri nodi. I nodi con un alto livello di intermittenza possono avere una notevole influenza all'interno di una rete in virtù del loro controllo sulle informazioni che passano tra gli altri. Sono anche quelli la cui rimozione dalla rete interromperà maggiormente le comunicazioni tra altri nodi perché si trovano sul maggior numero di percorsi seguiti dai messaggi.\n"
   ]
  },
  {
   "cell_type": "code",
   "execution_count": 9,
   "metadata": {},
   "outputs": [
    {
     "name": "stdout",
     "output_type": "stream",
     "text": [
      "{'A': 0.0, 'B': 0.07500000000000001, 'C': 0.07500000000000001, 'D': 0.0, 'E': 0.2, 'F': 0.0}\n"
     ]
    }
   ],
   "source": [
    "betweenness_dict = nx.betweenness_centrality(G)\n",
    "print(betweenness_dict)\n",
    "nx.set_node_attributes(G, betweenness_dict, 'betweenness')"
   ]
  },
  {
   "cell_type": "markdown",
   "metadata": {},
   "source": [
    "## Eigenvector (autovettori)\n",
    "\n",
    "Una naturale estensione della centralità dei gradi è la centralità degli autovettori. La centralità in gradi conferisce un punto di centralità per ogni collegamento ricevuto da un nodo. Ma non tutti i vertici sono equivalenti: alcuni sono più rilevanti di altri e, ragionevolmente, le approvazioni da nodi importanti contano di più. La tesi di centralità dell'autovettore recita:\n",
    "Un nodo è importante se è collegato da altri nodi importanti.\n",
    "La centralità degli autovettori differisce dalla centralità in gradi: un nodo che riceve molti collegamenti non ha necessariamente una elevata centralità degli autovettori (è possibile che tutti i linker abbiano una centralità degli autovettori bassa o nulla). Inoltre, un nodo con elevata centralità di autovettore non è necessariamente fortemente collegato (il nodo potrebbe avere pochi ma importanti linker).\n",
    "\n",
    "\n",
    "Sia $ A = (a_ {i, j}) $ la matrice di adiacenza di un grafico. La centralità dell'autovettore $ x_ {i} $ del nodo $ i $ è data da: $$ x_i = \\frac {1} {\\lambda} \\sum_k a_ {k, i} \\, x_k $$ \n",
    "dove $ \\lambda \\neq 0 $ è una costante. In forma di matrice abbiamo: \n",
    "$$ \\lambda x = x A $$\n",
    "\n",
    "Quindi il vettore di centralità $ x $ è l'autovettore sinistro della matrice di adiacenza $ A $ associato all'autovalore $ \\lambda $. È saggio scegliere $ \\lambda $ come autovalore più grande in valore assoluto della matrice $ A $. In virtù del teorema di Perron-Frobenius, questa scelta garantisce la seguente proprietà desiderabile: se la matrice $ A $ è irriducibile, o equivalentemente se il grafico è (fortemente) connesso, allora la soluzione di autovettore $ x $ è sia unica che positiva. Lascia che $ m (v) $ denoti la componente firmata della grandezza massima del vettore $ v $. Se esiste più di un componente massimo, lascia che $ m (v) $ sia il primo. Ad esempio, $ m (-3,3,2) = -3 $. Sia $ x ^ {(0)} $ un vettore arbitrario. Per $ k \\geq 1 $:\n",
    "calcola ripetutamente $ x ^ {(k)} = x ^ {(k-1)} A $;\n",
    "normalizzare $ x ^ {(k)} = x ^ {(k)} / m (x ^ {(k)}) $;\n",
    "fino a raggiungere la precisione desiderata. Ne segue che $ x ^ {(k)} $ converge all'autovettore dominante di $ A $ e $ m (x ^ {(k)}) $ converge all'autovalore dominante di $ A $. Se la matrice $ A $ è scarsa, ogni prodotto a matrice vettoriale può essere eseguito in tempo lineare nella dimensione del grafico.\n",
    "\n",
    "\n",
    "Il metodo converge quando gli autovalori dominanti (il più grande) e quelli sub-dominanti (il secondo più grande) di $ A $, rispettivamente indicati con $ \\lambda_1 $ e $ \\lambda_2 $, sono separati, ovvero sono diversi in valore assoluto, quindi quando $ | \\lambda_1 | > | \\lambda_2 | $. Il tasso di convergenza è il tasso al quale $ (\\lambda_2 / \\lambda_1) ^ k $ va a $ 0 $. Quindi, se l'autovalore secondario sub-dominante è piccolo rispetto a quello dominante, il metodo converge rapidamente.\n"
   ]
  },
  {
   "cell_type": "code",
   "execution_count": 10,
   "metadata": {
    "scrolled": true
   },
   "outputs": [
    {
     "name": "stdout",
     "output_type": "stream",
     "text": [
      "{'A': 0.4361928751222206, 'B': 0.45709174038164013, 'C': 0.45709174038164013, 'D': 0.4361928751222206, 'E': 0.4361928751222206, 'F': 0.10649698975839275}\n"
     ]
    }
   ],
   "source": [
    "eigenvector_dict = nx.eigenvector_centrality(G) \n",
    "print(eigenvector_dict)\n",
    "nx.set_node_attributes(G, eigenvector_dict, 'eigenvector')"
   ]
  },
  {
   "cell_type": "markdown",
   "metadata": {},
   "source": [
    "## Rappresentazione"
   ]
  },
  {
   "cell_type": "code",
   "execution_count": 11,
   "metadata": {
    "scrolled": true
   },
   "outputs": [
    {
     "data": {
      "image/png": "[encoded data removed]",
      "text/plain": [
       "<Figure size 432x288 with 1 Axes>"
      ]
     },
     "metadata": {},
     "output_type": "display_data"
    }
   ],
   "source": [
    "edges = G.edges()\n",
    "\n",
    "weights = [G[u][v]['weight'] for u,v in edges]\n",
    "options = {\n",
    "    'node_size': 600,\n",
    "    'width': 1,\n",
    "    'arrowstyle': '-|>',\n",
    "    'arrowsize': 12,\n",
    "}\n",
    "\n",
    "nx.draw(G, widht=weights, arrows=True, node_shape='D',\n",
    "     with_labels=True,\n",
    "    edge_color='green',\n",
    "    node_color=range(len(G)), **options)\n"
   ]
  },
  {
   "cell_type": "markdown",
   "metadata": {},
   "source": [
    "## community"
   ]
  },
  {
   "cell_type": "code",
   "execution_count": 12,
   "metadata": {},
   "outputs": [
    {
     "ename": "NameError",
     "evalue": "name 'community' is not defined",
     "output_type": "error",
     "traceback": [
      "\u001b[1;31m---------------------------------------------------------------------------\u001b[0m",
      "\u001b[1;31mNameError\u001b[0m                                 Traceback (most recent call last)",
      "\u001b[1;32m<ipython-input-12-93335af6ebcc>\u001b[0m in \u001b[0;36m<module>\u001b[1;34m\u001b[0m\n\u001b[1;32m----> 1\u001b[1;33m \u001b[0mcommunities\u001b[0m \u001b[1;33m=\u001b[0m \u001b[0mcommunity\u001b[0m\u001b[1;33m.\u001b[0m\u001b[0mbest_partition\u001b[0m\u001b[1;33m(\u001b[0m\u001b[0mG\u001b[0m\u001b[1;33m)\u001b[0m\u001b[1;33m\u001b[0m\u001b[1;33m\u001b[0m\u001b[0m\n\u001b[0m\u001b[0;32m      2\u001b[0m \u001b[0mprint\u001b[0m\u001b[1;33m(\u001b[0m\u001b[0mcommunities\u001b[0m\u001b[1;33m)\u001b[0m\u001b[1;33m\u001b[0m\u001b[1;33m\u001b[0m\u001b[0m\n\u001b[0;32m      3\u001b[0m \u001b[0mnx\u001b[0m\u001b[1;33m.\u001b[0m\u001b[0mset_node_attributes\u001b[0m\u001b[1;33m(\u001b[0m\u001b[0mG\u001b[0m\u001b[1;33m,\u001b[0m \u001b[0mcommunities\u001b[0m\u001b[1;33m,\u001b[0m \u001b[1;34m'modularity'\u001b[0m\u001b[1;33m)\u001b[0m\u001b[1;33m\u001b[0m\u001b[1;33m\u001b[0m\u001b[0m\n",
      "\u001b[1;31mNameError\u001b[0m: name 'community' is not defined"
     ]
    }
   ],
   "source": [
    "communities = community.best_partition(G)\n",
    "print(communities)\n",
    "nx.set_node_attributes(G, communities, 'modularity')"
   ]
  }
 ],
 "metadata": {
  "kernelspec": {
   "display_name": "Python 3",
   "language": "python",
   "name": "python3"
  },
  "language_info": {
   "codemirror_mode": {
    "name": "ipython",
    "version": 3
   },
   "file_extension": ".py",
   "mimetype": "text/x-python",
   "name": "python",
   "nbconvert_exporter": "python",
   "pygments_lexer": "ipython3",
   "version": "3.7.4"
  }
 },
 "nbformat": 4,
 "nbformat_minor": 2
}
